{
 "cells": [
  {
   "cell_type": "markdown",
   "id": "fa96e67a",
   "metadata": {},
   "source": [
    "# 🧠 RAG PDF Chatbot Backend Test"
   ]
  },
  {
   "cell_type": "code",
   "execution_count": null,
   "id": "a5e432b1",
   "metadata": {},
   "outputs": [],
   "source": [
    "!pip install langchain openai faiss-cpu PyPDF2 python-dotenv"
   ]
  },
  {
   "cell_type": "code",
   "execution_count": null,
   "id": "6eeb0b7e",
   "metadata": {},
   "outputs": [],
   "source": [
    "from langchain.document_loaders import PyPDFLoader\n",
    "from langchain.embeddings import OpenAIEmbeddings\n",
    "from langchain.vectorstores import FAISS\n",
    "from langchain.chat_models import ChatOpenAI\n",
    "from langchain.chains import RetrievalQA\n",
    "from dotenv import load_dotenv\n",
    "import os\n",
    "load_dotenv()\n",
    "openai_api_key = os.getenv(\"OPENAI_API_KEY\")\n"
   ]
  },
  {
   "cell_type": "code",
   "execution_count": null,
   "id": "1dba67e5",
   "metadata": {},
   "outputs": [],
   "source": [
    "loader = PyPDFLoader(\"sample.pdf\")\n",
    "pages = loader.load_and_split()\n",
    "embeddings = OpenAIEmbeddings(openai_api_key=openai_api_key)\n",
    "vectorstore = FAISS.from_documents(pages, embeddings)\n"
   ]
  },
  {
   "cell_type": "code",
   "execution_count": null,
   "id": "b6b50cee",
   "metadata": {},
   "outputs": [],
   "source": [
    "llm = ChatOpenAI(openai_api_key=openai_api_key)\n",
    "qa = RetrievalQA.from_chain_type(llm=llm, retriever=vectorstore.as_retriever())\n",
    "qa.run(\"Summarize the PDF in 5 lines\")\n"
   ]
  }
 ],
 "metadata": {},
 "nbformat": 4,
 "nbformat_minor": 5
}